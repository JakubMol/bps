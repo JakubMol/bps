{
 "cells": [
  {
   "cell_type": "code",
   "execution_count": 25,
   "metadata": {},
   "outputs": [
    {
     "data": {
      "text/html": [
       "<div>\n",
       "<style scoped>\n",
       "    .dataframe tbody tr th:only-of-type {\n",
       "        vertical-align: middle;\n",
       "    }\n",
       "\n",
       "    .dataframe tbody tr th {\n",
       "        vertical-align: top;\n",
       "    }\n",
       "\n",
       "    .dataframe thead th {\n",
       "        text-align: right;\n",
       "    }\n",
       "</style>\n",
       "<table border=\"1\" class=\"dataframe\">\n",
       "  <thead>\n",
       "    <tr style=\"text-align: right;\">\n",
       "      <th></th>\n",
       "      <th>latitude</th>\n",
       "      <th>longitude</th>\n",
       "      <th>brightness</th>\n",
       "      <th>scan</th>\n",
       "      <th>track</th>\n",
       "      <th>acq_date</th>\n",
       "      <th>acq_time</th>\n",
       "      <th>satellite</th>\n",
       "      <th>instrument</th>\n",
       "      <th>confidence</th>\n",
       "      <th>version</th>\n",
       "      <th>bright_t31</th>\n",
       "      <th>frp</th>\n",
       "      <th>daynight</th>\n",
       "      <th>type</th>\n",
       "    </tr>\n",
       "  </thead>\n",
       "  <tbody>\n",
       "    <tr>\n",
       "      <th>0</th>\n",
       "      <td>-11.8070</td>\n",
       "      <td>142.0583</td>\n",
       "      <td>313.0</td>\n",
       "      <td>1.0</td>\n",
       "      <td>1.0</td>\n",
       "      <td>2019-08-01</td>\n",
       "      <td>56</td>\n",
       "      <td>Terra</td>\n",
       "      <td>MODIS</td>\n",
       "      <td>48</td>\n",
       "      <td>6.3</td>\n",
       "      <td>297.3</td>\n",
       "      <td>6.6</td>\n",
       "      <td>D</td>\n",
       "      <td>0</td>\n",
       "    </tr>\n",
       "    <tr>\n",
       "      <th>285</th>\n",
       "      <td>-14.2000</td>\n",
       "      <td>130.6596</td>\n",
       "      <td>324.2</td>\n",
       "      <td>2.0</td>\n",
       "      <td>1.4</td>\n",
       "      <td>2019-08-01</td>\n",
       "      <td>524</td>\n",
       "      <td>Aqua</td>\n",
       "      <td>MODIS</td>\n",
       "      <td>42</td>\n",
       "      <td>6.3</td>\n",
       "      <td>301.8</td>\n",
       "      <td>28.8</td>\n",
       "      <td>D</td>\n",
       "      <td>0</td>\n",
       "    </tr>\n",
       "    <tr>\n",
       "      <th>284</th>\n",
       "      <td>-14.3457</td>\n",
       "      <td>129.8308</td>\n",
       "      <td>321.8</td>\n",
       "      <td>1.7</td>\n",
       "      <td>1.3</td>\n",
       "      <td>2019-08-01</td>\n",
       "      <td>524</td>\n",
       "      <td>Aqua</td>\n",
       "      <td>MODIS</td>\n",
       "      <td>57</td>\n",
       "      <td>6.3</td>\n",
       "      <td>301.9</td>\n",
       "      <td>18.7</td>\n",
       "      <td>D</td>\n",
       "      <td>0</td>\n",
       "    </tr>\n",
       "    <tr>\n",
       "      <th>283</th>\n",
       "      <td>-14.2476</td>\n",
       "      <td>130.6929</td>\n",
       "      <td>321.2</td>\n",
       "      <td>2.0</td>\n",
       "      <td>1.4</td>\n",
       "      <td>2019-08-01</td>\n",
       "      <td>524</td>\n",
       "      <td>Aqua</td>\n",
       "      <td>MODIS</td>\n",
       "      <td>61</td>\n",
       "      <td>6.3</td>\n",
       "      <td>303.7</td>\n",
       "      <td>21.0</td>\n",
       "      <td>D</td>\n",
       "      <td>0</td>\n",
       "    </tr>\n",
       "    <tr>\n",
       "      <th>282</th>\n",
       "      <td>-14.2568</td>\n",
       "      <td>130.7132</td>\n",
       "      <td>325.2</td>\n",
       "      <td>2.0</td>\n",
       "      <td>1.4</td>\n",
       "      <td>2019-08-01</td>\n",
       "      <td>524</td>\n",
       "      <td>Aqua</td>\n",
       "      <td>MODIS</td>\n",
       "      <td>54</td>\n",
       "      <td>6.3</td>\n",
       "      <td>304.4</td>\n",
       "      <td>30.7</td>\n",
       "      <td>D</td>\n",
       "      <td>0</td>\n",
       "    </tr>\n",
       "    <tr>\n",
       "      <th>...</th>\n",
       "      <td>...</td>\n",
       "      <td>...</td>\n",
       "      <td>...</td>\n",
       "      <td>...</td>\n",
       "      <td>...</td>\n",
       "      <td>...</td>\n",
       "      <td>...</td>\n",
       "      <td>...</td>\n",
       "      <td>...</td>\n",
       "      <td>...</td>\n",
       "      <td>...</td>\n",
       "      <td>...</td>\n",
       "      <td>...</td>\n",
       "      <td>...</td>\n",
       "      <td>...</td>\n",
       "    </tr>\n",
       "    <tr>\n",
       "      <th>35566</th>\n",
       "      <td>-27.4541</td>\n",
       "      <td>149.4632</td>\n",
       "      <td>329.1</td>\n",
       "      <td>1.2</td>\n",
       "      <td>1.1</td>\n",
       "      <td>2019-09-30</td>\n",
       "      <td>407</td>\n",
       "      <td>Aqua</td>\n",
       "      <td>MODIS</td>\n",
       "      <td>70</td>\n",
       "      <td>6.3</td>\n",
       "      <td>315.2</td>\n",
       "      <td>14.2</td>\n",
       "      <td>D</td>\n",
       "      <td>0</td>\n",
       "    </tr>\n",
       "    <tr>\n",
       "      <th>35567</th>\n",
       "      <td>-27.4063</td>\n",
       "      <td>151.6380</td>\n",
       "      <td>334.3</td>\n",
       "      <td>1.6</td>\n",
       "      <td>1.3</td>\n",
       "      <td>2019-09-30</td>\n",
       "      <td>407</td>\n",
       "      <td>Aqua</td>\n",
       "      <td>MODIS</td>\n",
       "      <td>72</td>\n",
       "      <td>6.3</td>\n",
       "      <td>314.2</td>\n",
       "      <td>29.9</td>\n",
       "      <td>D</td>\n",
       "      <td>0</td>\n",
       "    </tr>\n",
       "    <tr>\n",
       "      <th>35568</th>\n",
       "      <td>-27.4175</td>\n",
       "      <td>151.6407</td>\n",
       "      <td>331.5</td>\n",
       "      <td>1.6</td>\n",
       "      <td>1.3</td>\n",
       "      <td>2019-09-30</td>\n",
       "      <td>407</td>\n",
       "      <td>Aqua</td>\n",
       "      <td>MODIS</td>\n",
       "      <td>64</td>\n",
       "      <td>6.3</td>\n",
       "      <td>317.6</td>\n",
       "      <td>22.2</td>\n",
       "      <td>D</td>\n",
       "      <td>0</td>\n",
       "    </tr>\n",
       "    <tr>\n",
       "      <th>35570</th>\n",
       "      <td>-22.4856</td>\n",
       "      <td>150.7192</td>\n",
       "      <td>327.5</td>\n",
       "      <td>1.8</td>\n",
       "      <td>1.3</td>\n",
       "      <td>2019-09-30</td>\n",
       "      <td>408</td>\n",
       "      <td>Aqua</td>\n",
       "      <td>MODIS</td>\n",
       "      <td>0</td>\n",
       "      <td>6.3</td>\n",
       "      <td>299.7</td>\n",
       "      <td>40.2</td>\n",
       "      <td>D</td>\n",
       "      <td>0</td>\n",
       "    </tr>\n",
       "    <tr>\n",
       "      <th>36010</th>\n",
       "      <td>-30.8641</td>\n",
       "      <td>121.4995</td>\n",
       "      <td>309.1</td>\n",
       "      <td>1.8</td>\n",
       "      <td>1.3</td>\n",
       "      <td>2019-09-30</td>\n",
       "      <td>1645</td>\n",
       "      <td>Aqua</td>\n",
       "      <td>MODIS</td>\n",
       "      <td>77</td>\n",
       "      <td>6.3</td>\n",
       "      <td>290.9</td>\n",
       "      <td>23.0</td>\n",
       "      <td>N</td>\n",
       "      <td>2</td>\n",
       "    </tr>\n",
       "  </tbody>\n",
       "</table>\n",
       "<p>36011 rows × 15 columns</p>\n",
       "</div>"
      ],
      "text/plain": [
       "       latitude  longitude  brightness  scan  track    acq_date  acq_time  \\\n",
       "0      -11.8070   142.0583       313.0   1.0    1.0  2019-08-01        56   \n",
       "285    -14.2000   130.6596       324.2   2.0    1.4  2019-08-01       524   \n",
       "284    -14.3457   129.8308       321.8   1.7    1.3  2019-08-01       524   \n",
       "283    -14.2476   130.6929       321.2   2.0    1.4  2019-08-01       524   \n",
       "282    -14.2568   130.7132       325.2   2.0    1.4  2019-08-01       524   \n",
       "...         ...        ...         ...   ...    ...         ...       ...   \n",
       "35566  -27.4541   149.4632       329.1   1.2    1.1  2019-09-30       407   \n",
       "35567  -27.4063   151.6380       334.3   1.6    1.3  2019-09-30       407   \n",
       "35568  -27.4175   151.6407       331.5   1.6    1.3  2019-09-30       407   \n",
       "35570  -22.4856   150.7192       327.5   1.8    1.3  2019-09-30       408   \n",
       "36010  -30.8641   121.4995       309.1   1.8    1.3  2019-09-30      1645   \n",
       "\n",
       "      satellite instrument  confidence  version  bright_t31   frp daynight  \\\n",
       "0         Terra      MODIS          48      6.3       297.3   6.6        D   \n",
       "285        Aqua      MODIS          42      6.3       301.8  28.8        D   \n",
       "284        Aqua      MODIS          57      6.3       301.9  18.7        D   \n",
       "283        Aqua      MODIS          61      6.3       303.7  21.0        D   \n",
       "282        Aqua      MODIS          54      6.3       304.4  30.7        D   \n",
       "...         ...        ...         ...      ...         ...   ...      ...   \n",
       "35566      Aqua      MODIS          70      6.3       315.2  14.2        D   \n",
       "35567      Aqua      MODIS          72      6.3       314.2  29.9        D   \n",
       "35568      Aqua      MODIS          64      6.3       317.6  22.2        D   \n",
       "35570      Aqua      MODIS           0      6.3       299.7  40.2        D   \n",
       "36010      Aqua      MODIS          77      6.3       290.9  23.0        N   \n",
       "\n",
       "       type  \n",
       "0         0  \n",
       "285       0  \n",
       "284       0  \n",
       "283       0  \n",
       "282       0  \n",
       "...     ...  \n",
       "35566     0  \n",
       "35567     0  \n",
       "35568     0  \n",
       "35570     0  \n",
       "36010     2  \n",
       "\n",
       "[36011 rows x 15 columns]"
      ]
     },
     "execution_count": 25,
     "metadata": {},
     "output_type": "execute_result"
    }
   ],
   "source": [
    "import main\n",
    "\n",
    "load = main.load_housing_data()\n",
    "#load.plot(kind=\"scatter\", x=\"longitude\", y=\"latitude\", alpha=0.1)\n",
    "load.sort_values(by=\"acq_date\")"
   ]
  },
  {
   "cell_type": "code",
   "execution_count": 5,
   "metadata": {},
   "outputs": [
    {
     "ename": "NameError",
     "evalue": "name 'load_housing_data' is not defined",
     "output_type": "error",
     "traceback": [
      "\u001B[0;31m---------------------------------------------------------------------------\u001B[0m",
      "\u001B[0;31mNameError\u001B[0m                                 Traceback (most recent call last)",
      "\u001B[0;32m<ipython-input-5-ba9847c122e0>\u001B[0m in \u001B[0;36m<module>\u001B[0;34m\u001B[0m\n\u001B[0;32m----> 1\u001B[0;31m \u001B[0mload_housing_data\u001B[0m\u001B[0;34m(\u001B[0m\u001B[0;34m)\u001B[0m\u001B[0;34m\u001B[0m\u001B[0;34m\u001B[0m\u001B[0m\n\u001B[0m",
      "\u001B[0;31mNameError\u001B[0m: name 'load_housing_data' is not defined"
     ]
    }
   ],
   "source": [
    "load_housing_data()"
   ]
  },
  {
   "cell_type": "code",
   "execution_count": null,
   "outputs": [],
   "source": [],
   "metadata": {
    "collapsed": false,
    "pycharm": {
     "name": "#%%\n"
    }
   }
  },
  {
   "cell_type": "code",
   "execution_count": null,
   "outputs": [],
   "source": [],
   "metadata": {
    "collapsed": false,
    "pycharm": {
     "name": "#%%\n"
    }
   }
  },
  {
   "cell_type": "code",
   "execution_count": null,
   "outputs": [],
   "source": [],
   "metadata": {
    "collapsed": false,
    "pycharm": {
     "name": "#%%\n"
    }
   }
  },
  {
   "cell_type": "code",
   "execution_count": null,
   "metadata": {
    "pycharm": {
     "name": "#%%\n"
    }
   },
   "outputs": [],
   "source": []
  },
  {
   "cell_type": "code",
   "execution_count": null,
   "metadata": {
    "pycharm": {
     "name": "#%%\n"
    }
   },
   "outputs": [],
   "source": []
  },
  {
   "cell_type": "code",
   "execution_count": null,
   "metadata": {
    "pycharm": {
     "name": "#%%\n"
    }
   },
   "outputs": [],
   "source": []
  },
  {
   "cell_type": "code",
   "execution_count": null,
   "metadata": {
    "pycharm": {
     "name": "#%%\n"
    }
   },
   "outputs": [],
   "source": []
  },
  {
   "cell_type": "code",
   "execution_count": null,
   "metadata": {
    "pycharm": {
     "name": "#%%\n"
    }
   },
   "outputs": [],
   "source": []
  },
  {
   "cell_type": "code",
   "execution_count": null,
   "metadata": {
    "pycharm": {
     "name": "#%%\n"
    }
   },
   "outputs": [],
   "source": []
  },
  {
   "cell_type": "code",
   "execution_count": null,
   "metadata": {},
   "outputs": [],
   "source": []
  },
  {
   "cell_type": "code",
   "execution_count": null,
   "metadata": {},
   "outputs": [],
   "source": []
  },
  {
   "cell_type": "code",
   "execution_count": null,
   "metadata": {},
   "outputs": [],
   "source": []
  },
  {
   "cell_type": "code",
   "execution_count": null,
   "metadata": {},
   "outputs": [],
   "source": []
  }
 ],
 "metadata": {
  "kernelspec": {
   "display_name": "Python 3",
   "language": "python",
   "name": "python3"
  },
  "language_info": {
   "codemirror_mode": {
    "name": "ipython",
    "version": 3
   },
   "file_extension": ".py",
   "mimetype": "text/x-python",
   "name": "python",
   "nbconvert_exporter": "python",
   "pygments_lexer": "ipython3",
   "version": "3.9.0"
  }
 },
 "nbformat": 4,
 "nbformat_minor": 4
}